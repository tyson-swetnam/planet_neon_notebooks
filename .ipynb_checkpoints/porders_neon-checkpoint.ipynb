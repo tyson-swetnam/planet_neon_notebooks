{
 "cells": [
  {
   "cell_type": "markdown",
   "metadata": {},
   "source": [
    "# Planet data dump\n",
    "\n",
    "**Goal: download all available clear-sky PlanetScope 3m four band analytic surface reflectance imagery for every NEON site from 2016 until the present (September 2020) **\n",
    "\n",
    "## Pre-requisites\n",
    "\n",
    "Install geospatial dependencies for `.geojson`, `.tif`, Google Earth Engine (GEE), and `snakemake` workflow manager.\n",
    "\n",
    "## Directory Structure\n",
    "\n",
    "To organize the project, we're going to put our files in a set of folders, these will use `.gitignore` to avoid adding them to the GitHub repository.\n",
    "\n",
    "```\n",
    "/NEON_Downloads\n",
    "├──/aop_sites\n",
    "│   ├──\n",
    "│   ├──\n",
    "│   └──\n",
    "├──/planet_order\n",
    "│   ├──\n",
    "│   ├──\n",
    "│   ├──\n",
    "│   └──\n",
    "├──/porder_snakemake\n",
    "│\n",
    "└──\n",
    "```\n",
    "### NEON site boundaries\n",
    "\n",
    "From NEON, https://www.neonscience.org/data/about-data/spatial-data-maps, I've converted the `.shp` files to `.geojson` for the Terrestrial Sampling Boundaries, AOP Flight Areas, and TOS Sampling locations."
   ]
  },
  {
   "cell_type": "code",
   "execution_count": null,
   "metadata": {},
   "outputs": [],
   "source": [
    "# set present working directory\n"
   ]
  },
  {
   "cell_type": "code",
   "execution_count": 2,
   "metadata": {},
   "outputs": [],
   "source": [
    "import geopandas\n",
    "site = geopandas.read_file('terrestrial_boundaries.geojson')\n",
    "aop = geopandas.read_file('AOP_flightboxes.geojson')\n",
    "tos = geopandas.read_file('TOS_v4.geojson')"
   ]
  },
  {
   "cell_type": "markdown",
   "metadata": {},
   "source": [
    "Read out the contents of the files just to make sure that their fields are complete"
   ]
  },
  {
   "cell_type": "code",
   "execution_count": 3,
   "metadata": {
    "scrolled": true
   },
   "outputs": [
    {
     "name": "stdout",
     "output_type": "stream",
     "text": [
      "  domain domainName                      siteName siteID     siteType  \\\n",
      "0    D01  Northeast  Bartlett Experimental Forest   BART  Relocatable   \n",
      "1    D01  Northeast                Harvard Forest   HARV         Core   \n",
      "2    D01  Northeast                Harvard Forest   HARV         Core   \n",
      "3    D01  Northeast               Lower Hop Brook   HOPB         Core   \n",
      "4    D19      Taiga                         Healy   HEAL  Relocatable   \n",
      "\n",
      "    sampleType  priority  version         flightbxID  \\\n",
      "0  Terrestrial         1        1  D01_BART_R1_P1_v1   \n",
      "1  Terrestrial         1        1  D01_HARV_C1_P1_v1   \n",
      "2  Terrestrial         3        1  D01_HARV_C1_P3_v1   \n",
      "3      Aquatic         2        1  D01_HOPB_C1_P2_v1   \n",
      "4  Terrestrial         1        1  D19_HEAL_R3_P1_v1   \n",
      "\n",
      "                                            geometry  \n",
      "0  MULTIPOLYGON (((-71.33426 43.99197, -71.33423 ...  \n",
      "1  MULTIPOLYGON (((-72.14819 42.57510, -72.14776 ...  \n",
      "2  MULTIPOLYGON (((-72.10812 42.43653, -72.14788 ...  \n",
      "3  MULTIPOLYGON (((-72.36635 42.46399, -72.36635 ...  \n",
      "4  MULTIPOLYGON (((-149.31505 63.82981, -149.3150...  \n"
     ]
    }
   ],
   "source": [
    "print(aop.head())"
   ]
  },
  {
   "cell_type": "code",
   "execution_count": 4,
   "metadata": {
    "scrolled": true
   },
   "outputs": [
    {
     "name": "stdout",
     "output_type": "stream",
     "text": [
      "  domainNumb    domainName                 siteType  \\\n",
      "0        D01     Northeast         Core Terrestrial   \n",
      "1        D02  Mid-Atlantic  Relocatable Terrestrial   \n",
      "2        D02  Mid-Atlantic  Relocatable Terrestrial   \n",
      "3        D03     Southeast  Relocatable Terrestrial   \n",
      "4        D03     Southeast         Core Terrestrial   \n",
      "\n",
      "                                    siteName siteID  \\\n",
      "0                             Harvard Forest   HARV   \n",
      "1                   Blandy Experimental Farm   BLAN   \n",
      "2  Smithsonian Environmental Research Center   SERC   \n",
      "3                 Disney Wilderness Preserve   DSNY   \n",
      "4          Ordway Swisher Biological Station   OSBS   \n",
      "\n",
      "                           siteHost    areaKm2         acres  \\\n",
      "0          Harvard University, LTER  11.737025   2900.270496   \n",
      "1            University of Virginia   2.694233    665.756840   \n",
      "2           Smithsonian Institution   1.578849    390.140625   \n",
      "3            The Nature Conservancy  48.504342  11985.635953   \n",
      "4  University of Florida Foundation  36.808639   9095.576345   \n",
      "\n",
      "                                            geometry  \n",
      "0  MULTIPOLYGON (((-72.19445 42.53763, -72.19506 ...  \n",
      "1  MULTIPOLYGON (((-78.07958 39.05886, -78.07967 ...  \n",
      "2  MULTIPOLYGON (((-76.56496 38.89008, -76.56181 ...  \n",
      "3  MULTIPOLYGON (((-81.42341 28.14041, -81.42336 ...  \n",
      "4  MULTIPOLYGON (((-82.00711 29.67322, -82.01146 ...  \n"
     ]
    }
   ],
   "source": [
    "print(site.head())"
   ]
  },
  {
   "cell_type": "code",
   "execution_count": 5,
   "metadata": {
    "scrolled": true
   },
   "outputs": [
    {
     "name": "stdout",
     "output_type": "stream",
     "text": [
      "        country state   county     domain domanID  \\\n",
      "0  unitedStates    NH  Carroll  Northeast     D01   \n",
      "1  unitedStates    NH  Carroll  Northeast     D01   \n",
      "2  unitedStates    NH  Carroll  Northeast     D01   \n",
      "3  unitedStates    NH  Carroll  Northeast     D01   \n",
      "4  unitedStates    NH  Carroll  Northeast     D01   \n",
      "\n",
      "                        siteNam siteID      plotTyp   subtype subSpec  ...  \\\n",
      "0  Bartlett Experimental Forest   BART  distributed  basePlot    None  ...   \n",
      "1  Bartlett Experimental Forest   BART  distributed  basePlot    None  ...   \n",
      "2  Bartlett Experimental Forest   BART  distributed  basePlot    None  ...   \n",
      "3  Bartlett Experimental Forest   BART  distributed  basePlot    None  ...   \n",
      "4  Bartlett Experimental Forest   BART  distributed  basePlot    None  ...   \n",
      "\n",
      "           nlcdCls  slTypOr     cordSrc        date  fltrdPs  plotPdp plotHdp  \\\n",
      "0  deciduousForest     None  GeoXH 6000  20140902.0    301.0      5.8     3.0   \n",
      "1      mixedForest     None  GeoXH 6000  20131015.0    302.0      4.6     1.5   \n",
      "2  deciduousForest     None  GeoXH 6000  20131015.0    122.0      2.8     1.6   \n",
      "3      mixedForest     None  GeoXH 6000  20140903.0    302.0      3.3     1.9   \n",
      "4  deciduousForest     None  GeoXH 6000  20140924.0    863.0      7.3     2.5   \n",
      "\n",
      "                       appMods  plotEdg  \\\n",
      "0  all|cdw|cfc|dhp|div|hbp|vst       40   \n",
      "1  all|cdw|cfc|dhp|div|hbp|vst       40   \n",
      "2      all|cdw|dhp|div|hbp|vst       40   \n",
      "3      all|cdw|dhp|div|hbp|vst       40   \n",
      "4      all|cdw|dhp|div|hbp|vst       40   \n",
      "\n",
      "                                            geometry  \n",
      "0  MULTIPOLYGON (((-71.31117 44.06069, -71.31067 ...  \n",
      "1  MULTIPOLYGON (((-71.29874 44.04987, -71.29824 ...  \n",
      "2  MULTIPOLYGON (((-71.26694 44.05025, -71.26644 ...  \n",
      "3  MULTIPOLYGON (((-71.29653 44.05018, -71.29603 ...  \n",
      "4  MULTIPOLYGON (((-71.27786 44.04191, -71.27736 ...  \n",
      "\n",
      "[5 rows x 37 columns]\n"
     ]
    }
   ],
   "source": [
    "print(tos.head())"
   ]
  },
  {
   "cell_type": "markdown",
   "metadata": {},
   "source": [
    "We need to clip the geometry of each NEON site, using its `flightbxID` and save that geojson as a unique `flightbID.geojson`  "
   ]
  },
  {
   "cell_type": "code",
   "execution_count": 6,
   "metadata": {},
   "outputs": [
    {
     "name": "stdout",
     "output_type": "stream",
     "text": [
      "D14_SYCA_A1_P1_v2.geojson\n"
     ]
    }
   ],
   "source": [
    "print(aop[\"flightbxID\"][98]+'.geojson')"
   ]
  },
  {
   "cell_type": "markdown",
   "metadata": {},
   "source": [
    "### Create individual `.geojson` for each Flight Box.\n",
    "This script splits each site by flightbox and priority area and saves them in a new folder called `aop_sites/`\n",
    "\n",
    "These low point count polygons are useful for querying the Planet API, and will make downloading the Planet assets (images) easier. "
   ]
  },
  {
   "cell_type": "code",
   "execution_count": 12,
   "metadata": {},
   "outputs": [
    {
     "name": "stdout",
     "output_type": "stream",
     "text": [
      "Directory  aop_sites  already exists\n"
     ]
    }
   ],
   "source": [
    "import copy\n",
    "import json\n",
    "import os\n",
    "\n",
    "# Import AOP flightboxes filename\n",
    "JSON_FILENAME = 'AOP_flightboxes.geojson'\n",
    "\n",
    "# Create directory\n",
    "dirName = 'aop_sites'\n",
    "try:\n",
    "    # Create target Directory\n",
    "    os.mkdir(dirName)\n",
    "    print(\"Directory \" , dirName ,  \" Created \") \n",
    "except FileExistsError:\n",
    "    print(\"Directory \" , dirName ,  \" already exists\")\n",
    "\n",
    "# Split AOP flightboxes GeoJSON into individual files    \n",
    "def _get_sites_data(features: list) -> dict:\n",
    "    ret_list = {}\n",
    "    for feature in features:\n",
    "        site_id = feature['properties']['flightbxID']\n",
    "        if site_id not in ret_list:\n",
    "            ret_list[site_id] = [feature]\n",
    "        else:\n",
    "            ret_list[site_id].append(feature)\n",
    "    return ret_list\n",
    "\n",
    "with open(JSON_FILENAME, 'r') as in_file:\n",
    "    geo_data = json.load(in_file)\n",
    "\n",
    "json_preamble = {}\n",
    "for key, value in geo_data.items():\n",
    "    if key not in ['features']:\n",
    "        json_preamble[key] = value\n",
    "\n",
    "site_list = _get_sites_data(geo_data['features'])\n",
    "\n",
    "for site, site_features in site_list.items():\n",
    "    out_filename = 'aop_sites/'+ site + '.geojson'\n",
    "    site_json = copy.deepcopy(json_preamble)\n",
    "    site_json['features'] = site_features\n",
    "    with open(out_filename, 'w') as out_file:\n",
    "        json.dump(site_json, out_file)"
   ]
  },
  {
   "cell_type": "markdown",
   "metadata": {},
   "source": [
    "The `porder` json reader does not like the added hierarchy of four `[[[[` and `]]]]` in the new site `.geojson` for the geometry, so we need to remove one of the square brackets. \n",
    "Here I use a simple `sed` command to recursively go through every `.geojson` in the directory and modify the four brackets down to three. I also change the definition from a `MultiPolygon` down to a simple `Polygon`"
   ]
  },
  {
   "cell_type": "code",
   "execution_count": 13,
   "metadata": {},
   "outputs": [],
   "source": [
    "%%bash\n",
    "cd aop_sites && sed -i 's/\\]\\]\\]\\]/\\]\\]\\]/g' * && sed -i 's/\\]\\]\\]\\]/\\]\\]\\]/g' * && sed -i 's/MultiPolygon/Polygon/g' *  "
   ]
  },
  {
   "cell_type": "markdown",
   "metadata": {},
   "source": [
    "Try clicking on each `.geojson` to see if it displays in the Jupyter Lab."
   ]
  },
  {
   "cell_type": "markdown",
   "metadata": {},
   "source": [
    "to do:  build a script (maybe with a workflow manager) that will take each NEON site and clip the Planet imagery within the respective AOP extent.\n",
    "\n",
    "Estimate total `sq|km` of Planet assets across `n` days over every NEON AOP boundary using `porder`\n",
    "\n"
   ]
  },
  {
   "cell_type": "markdown",
   "metadata": {},
   "source": [
    "# (To do) Snakemake workflow \n",
    "\n",
    "Use [SnakeMake](https://snakemake.readthedocs.io/en/stable/index.html) to create a workflow which downloads the Planet data by site, and prepares it for ingestion into GEE.\n",
    "\n",
    "```\n",
    "conda install -c conda-forge mamba\n",
    "mamba create -c bioconda -c conda-forge -n snakemake snakemake-minimal\n",
    "```\n",
    "\n",
    "`porder` uses BASH commands, and looks something like this: "
   ]
  },
  {
   "cell_type": "code",
   "execution_count": null,
   "metadata": {},
   "outputs": [],
   "source": [
    "import sys\n",
    "print(sys.executable)"
   ]
  },
  {
   "cell_type": "raw",
   "metadata": {},
   "source": [
    "from snakemake.utils import min_version\n",
    "\n",
    "min_version(\"3.2\")"
   ]
  },
  {
   "cell_type": "code",
   "execution_count": null,
   "metadata": {},
   "outputs": [],
   "source": []
  },
  {
   "cell_type": "markdown",
   "metadata": {},
   "source": [
    "# Ordering Planet assets with `porder` from CLI\n",
    "\n",
    "Samapriya's `porder` hosted on [Github](https://github.com/tyson-swetnam/porder) has [detailed instructions](https://tyson-swetnam.github.io/porder/) for downloading data from Planet\n",
    "\n",
    "### Log into Planet\n",
    "\n",
    "I have an account with [Planet.com](https://planet.com), in the terminal I run `planet init` and enter my email address and password. This creates a hidden file in my home folder  `~/.planet.json`\n",
    "\n",
    "**Check Quota**\n",
    "\n",
    "Before you start work on this notebook check your quota in Sq/km to see if you can download your imagery."
   ]
  },
  {
   "cell_type": "code",
   "execution_count": 1,
   "metadata": {},
   "outputs": [
    {
     "ename": "NameError",
     "evalue": "name 'planet_quota' is not defined",
     "output_type": "error",
     "traceback": [
      "\u001b[0;31m---------------------------------------------------------------------------\u001b[0m",
      "\u001b[0;31mNameError\u001b[0m                                 Traceback (most recent call last)",
      "\u001b[0;32m<ipython-input-1-fcaadde04f5d>\u001b[0m in \u001b[0;36m<module>\u001b[0;34m\u001b[0m\n\u001b[1;32m      1\u001b[0m \u001b[0;32mimport\u001b[0m \u001b[0mplanet\u001b[0m\u001b[0;34m\u001b[0m\u001b[0;34m\u001b[0m\u001b[0m\n\u001b[0;32m----> 2\u001b[0;31m \u001b[0mplanet_quota\u001b[0m\u001b[0;34m(\u001b[0m\u001b[0;34m)\u001b[0m\u001b[0;34m\u001b[0m\u001b[0;34m\u001b[0m\u001b[0m\n\u001b[0m",
      "\u001b[0;31mNameError\u001b[0m: name 'planet_quota' is not defined"
     ]
    }
   ],
   "source": [
    "import planet\n",
    "planet_quota()"
   ]
  },
  {
   "cell_type": "code",
   "execution_count": 1,
   "metadata": {},
   "outputs": [
    {
     "name": "stdout",
     "output_type": "stream",
     "text": [
      "\n",
      "\n",
      "Running search for a maximum of: 1000 assets\n"
     ]
    },
    {
     "name": "stderr",
     "output_type": "stream",
     "text": [
      "ERROR 1: PROJ: proj_create_from_database: Open of /opt/conda/share/proj failed\n",
      "Traceback (most recent call last):\n",
      "  File \"/opt/conda/bin/porder\", line 8, in <module>\n",
      "    sys.exit(main())\n",
      "  File \"/opt/conda/lib/python3.7/site-packages/porder/porder.py\", line 841, in main\n",
      "    func(args)\n",
      "  File \"/opt/conda/lib/python3.7/site-packages/porder/porder.py\", line 284, in idlist_from_parser\n",
      "    filters=args.filters,\n",
      "  File \"/opt/conda/lib/python3.7/site-packages/porder/geojson2id.py\", line 253, in idl\n",
      "    res = client.quick_search(req)\n",
      "  File \"/opt/conda/lib/python3.7/site-packages/planet/api/client.py\", line 168, in quick_search\n",
      "    body_type=models.Items, data=body, method='POST')).get_body()\n",
      "  File \"/opt/conda/lib/python3.7/site-packages/planet/api/models.py\", line 45, in get_body\n",
      "    resp = self._dispatcher._dispatch(self.request)\n",
      "  File \"/opt/conda/lib/python3.7/site-packages/planet/api/dispatch.py\", line 155, in _dispatch\n",
      "    return _do_request(self.session, request)\n",
      "  File \"/opt/conda/lib/python3.7/site-packages/planet/api/dispatch.py\", line 119, in _do_request\n",
      "    req.method, req.url, data=req.data, headers=_headers(req),\n",
      "  File \"/opt/conda/lib/python3.7/site-packages/planet/api/dispatch.py\", line 109, in _headers\n",
      "    raise InvalidAPIKey('No API key provided')\n",
      "planet.api.exceptions.InvalidAPIKey: No API key provided\n"
     ]
    },
    {
     "ename": "CalledProcessError",
     "evalue": "Command 'b'porder idlist --input \"/workspace/NEON_Downloads/aop_sites/D16_WREF_C1_P1_v2.geojson\" --start \"2017-01-01\" --end \"2020-08-31\" --item \"PSScene4Band\" --asset \"analytic_sr,udm2\" --outfile \"/workspace/NEON_Downloads/planet_order/D16_WREF_C1_P1_v2_2016_2020.csv\" --filters range:clear_percent:90:100 --number 1000\\n'' returned non-zero exit status 1.",
     "output_type": "error",
     "traceback": [
      "\u001b[0;31m---------------------------------------------------------------------------\u001b[0m",
      "\u001b[0;31mCalledProcessError\u001b[0m                        Traceback (most recent call last)",
      "\u001b[0;32m<ipython-input-1-4e40a3bd0714>\u001b[0m in \u001b[0;36m<module>\u001b[0;34m\u001b[0m\n\u001b[0;32m----> 1\u001b[0;31m \u001b[0mget_ipython\u001b[0m\u001b[0;34m(\u001b[0m\u001b[0;34m)\u001b[0m\u001b[0;34m.\u001b[0m\u001b[0mrun_cell_magic\u001b[0m\u001b[0;34m(\u001b[0m\u001b[0;34m'bash'\u001b[0m\u001b[0;34m,\u001b[0m \u001b[0;34m''\u001b[0m\u001b[0;34m,\u001b[0m \u001b[0;34m'porder idlist --input \"/workspace/NEON_Downloads/aop_sites/D16_WREF_C1_P1_v2.geojson\" --start \"2017-01-01\" --end \"2020-08-31\" --item \"PSScene4Band\" --asset \"analytic_sr,udm2\" --outfile \"/workspace/NEON_Downloads/planet_order/D16_WREF_C1_P1_v2_2016_2020.csv\" --filters range:clear_percent:90:100 --number 1000\\n'\u001b[0m\u001b[0;34m)\u001b[0m\u001b[0;34m\u001b[0m\u001b[0;34m\u001b[0m\u001b[0m\n\u001b[0m",
      "\u001b[0;32m/opt/conda/lib/python3.7/site-packages/IPython/core/interactiveshell.py\u001b[0m in \u001b[0;36mrun_cell_magic\u001b[0;34m(self, magic_name, line, cell)\u001b[0m\n\u001b[1;32m   2360\u001b[0m             \u001b[0;32mwith\u001b[0m \u001b[0mself\u001b[0m\u001b[0;34m.\u001b[0m\u001b[0mbuiltin_trap\u001b[0m\u001b[0;34m:\u001b[0m\u001b[0;34m\u001b[0m\u001b[0;34m\u001b[0m\u001b[0m\n\u001b[1;32m   2361\u001b[0m                 \u001b[0margs\u001b[0m \u001b[0;34m=\u001b[0m \u001b[0;34m(\u001b[0m\u001b[0mmagic_arg_s\u001b[0m\u001b[0;34m,\u001b[0m \u001b[0mcell\u001b[0m\u001b[0;34m)\u001b[0m\u001b[0;34m\u001b[0m\u001b[0;34m\u001b[0m\u001b[0m\n\u001b[0;32m-> 2362\u001b[0;31m                 \u001b[0mresult\u001b[0m \u001b[0;34m=\u001b[0m \u001b[0mfn\u001b[0m\u001b[0;34m(\u001b[0m\u001b[0;34m*\u001b[0m\u001b[0margs\u001b[0m\u001b[0;34m,\u001b[0m \u001b[0;34m**\u001b[0m\u001b[0mkwargs\u001b[0m\u001b[0;34m)\u001b[0m\u001b[0;34m\u001b[0m\u001b[0;34m\u001b[0m\u001b[0m\n\u001b[0m\u001b[1;32m   2363\u001b[0m             \u001b[0;32mreturn\u001b[0m \u001b[0mresult\u001b[0m\u001b[0;34m\u001b[0m\u001b[0;34m\u001b[0m\u001b[0m\n\u001b[1;32m   2364\u001b[0m \u001b[0;34m\u001b[0m\u001b[0m\n",
      "\u001b[0;32m/opt/conda/lib/python3.7/site-packages/IPython/core/magics/script.py\u001b[0m in \u001b[0;36mnamed_script_magic\u001b[0;34m(line, cell)\u001b[0m\n\u001b[1;32m    140\u001b[0m             \u001b[0;32melse\u001b[0m\u001b[0;34m:\u001b[0m\u001b[0;34m\u001b[0m\u001b[0;34m\u001b[0m\u001b[0m\n\u001b[1;32m    141\u001b[0m                 \u001b[0mline\u001b[0m \u001b[0;34m=\u001b[0m \u001b[0mscript\u001b[0m\u001b[0;34m\u001b[0m\u001b[0;34m\u001b[0m\u001b[0m\n\u001b[0;32m--> 142\u001b[0;31m             \u001b[0;32mreturn\u001b[0m \u001b[0mself\u001b[0m\u001b[0;34m.\u001b[0m\u001b[0mshebang\u001b[0m\u001b[0;34m(\u001b[0m\u001b[0mline\u001b[0m\u001b[0;34m,\u001b[0m \u001b[0mcell\u001b[0m\u001b[0;34m)\u001b[0m\u001b[0;34m\u001b[0m\u001b[0;34m\u001b[0m\u001b[0m\n\u001b[0m\u001b[1;32m    143\u001b[0m \u001b[0;34m\u001b[0m\u001b[0m\n\u001b[1;32m    144\u001b[0m         \u001b[0;31m# write a basic docstring:\u001b[0m\u001b[0;34m\u001b[0m\u001b[0;34m\u001b[0m\u001b[0;34m\u001b[0m\u001b[0m\n",
      "\u001b[0;32m<decorator-gen-110>\u001b[0m in \u001b[0;36mshebang\u001b[0;34m(self, line, cell)\u001b[0m\n",
      "\u001b[0;32m/opt/conda/lib/python3.7/site-packages/IPython/core/magic.py\u001b[0m in \u001b[0;36m<lambda>\u001b[0;34m(f, *a, **k)\u001b[0m\n\u001b[1;32m    185\u001b[0m     \u001b[0;31m# but it's overkill for just that one bit of state.\u001b[0m\u001b[0;34m\u001b[0m\u001b[0;34m\u001b[0m\u001b[0;34m\u001b[0m\u001b[0m\n\u001b[1;32m    186\u001b[0m     \u001b[0;32mdef\u001b[0m \u001b[0mmagic_deco\u001b[0m\u001b[0;34m(\u001b[0m\u001b[0marg\u001b[0m\u001b[0;34m)\u001b[0m\u001b[0;34m:\u001b[0m\u001b[0;34m\u001b[0m\u001b[0;34m\u001b[0m\u001b[0m\n\u001b[0;32m--> 187\u001b[0;31m         \u001b[0mcall\u001b[0m \u001b[0;34m=\u001b[0m \u001b[0;32mlambda\u001b[0m \u001b[0mf\u001b[0m\u001b[0;34m,\u001b[0m \u001b[0;34m*\u001b[0m\u001b[0ma\u001b[0m\u001b[0;34m,\u001b[0m \u001b[0;34m**\u001b[0m\u001b[0mk\u001b[0m\u001b[0;34m:\u001b[0m \u001b[0mf\u001b[0m\u001b[0;34m(\u001b[0m\u001b[0;34m*\u001b[0m\u001b[0ma\u001b[0m\u001b[0;34m,\u001b[0m \u001b[0;34m**\u001b[0m\u001b[0mk\u001b[0m\u001b[0;34m)\u001b[0m\u001b[0;34m\u001b[0m\u001b[0;34m\u001b[0m\u001b[0m\n\u001b[0m\u001b[1;32m    188\u001b[0m \u001b[0;34m\u001b[0m\u001b[0m\n\u001b[1;32m    189\u001b[0m         \u001b[0;32mif\u001b[0m \u001b[0mcallable\u001b[0m\u001b[0;34m(\u001b[0m\u001b[0marg\u001b[0m\u001b[0;34m)\u001b[0m\u001b[0;34m:\u001b[0m\u001b[0;34m\u001b[0m\u001b[0;34m\u001b[0m\u001b[0m\n",
      "\u001b[0;32m/opt/conda/lib/python3.7/site-packages/IPython/core/magics/script.py\u001b[0m in \u001b[0;36mshebang\u001b[0;34m(self, line, cell)\u001b[0m\n\u001b[1;32m    243\u001b[0m             \u001b[0msys\u001b[0m\u001b[0;34m.\u001b[0m\u001b[0mstderr\u001b[0m\u001b[0;34m.\u001b[0m\u001b[0mflush\u001b[0m\u001b[0;34m(\u001b[0m\u001b[0;34m)\u001b[0m\u001b[0;34m\u001b[0m\u001b[0;34m\u001b[0m\u001b[0m\n\u001b[1;32m    244\u001b[0m         \u001b[0;32mif\u001b[0m \u001b[0margs\u001b[0m\u001b[0;34m.\u001b[0m\u001b[0mraise_error\u001b[0m \u001b[0;32mand\u001b[0m \u001b[0mp\u001b[0m\u001b[0;34m.\u001b[0m\u001b[0mreturncode\u001b[0m\u001b[0;34m!=\u001b[0m\u001b[0;36m0\u001b[0m\u001b[0;34m:\u001b[0m\u001b[0;34m\u001b[0m\u001b[0;34m\u001b[0m\u001b[0m\n\u001b[0;32m--> 245\u001b[0;31m             \u001b[0;32mraise\u001b[0m \u001b[0mCalledProcessError\u001b[0m\u001b[0;34m(\u001b[0m\u001b[0mp\u001b[0m\u001b[0;34m.\u001b[0m\u001b[0mreturncode\u001b[0m\u001b[0;34m,\u001b[0m \u001b[0mcell\u001b[0m\u001b[0;34m,\u001b[0m \u001b[0moutput\u001b[0m\u001b[0;34m=\u001b[0m\u001b[0mout\u001b[0m\u001b[0;34m,\u001b[0m \u001b[0mstderr\u001b[0m\u001b[0;34m=\u001b[0m\u001b[0merr\u001b[0m\u001b[0;34m)\u001b[0m\u001b[0;34m\u001b[0m\u001b[0;34m\u001b[0m\u001b[0m\n\u001b[0m\u001b[1;32m    246\u001b[0m \u001b[0;34m\u001b[0m\u001b[0m\n\u001b[1;32m    247\u001b[0m     \u001b[0;32mdef\u001b[0m \u001b[0m_run_script\u001b[0m\u001b[0;34m(\u001b[0m\u001b[0mself\u001b[0m\u001b[0;34m,\u001b[0m \u001b[0mp\u001b[0m\u001b[0;34m,\u001b[0m \u001b[0mcell\u001b[0m\u001b[0;34m,\u001b[0m \u001b[0mto_close\u001b[0m\u001b[0;34m)\u001b[0m\u001b[0;34m:\u001b[0m\u001b[0;34m\u001b[0m\u001b[0;34m\u001b[0m\u001b[0m\n",
      "\u001b[0;31mCalledProcessError\u001b[0m: Command 'b'porder idlist --input \"/workspace/NEON_Downloads/aop_sites/D16_WREF_C1_P1_v2.geojson\" --start \"2017-01-01\" --end \"2020-08-31\" --item \"PSScene4Band\" --asset \"analytic_sr,udm2\" --outfile \"/workspace/NEON_Downloads/planet_order/D16_WREF_C1_P1_v2_2016_2020.csv\" --filters range:clear_percent:90:100 --number 1000\\n'' returned non-zero exit status 1."
     ]
    }
   ],
   "source": [
    "%%bash\n",
    "porder idlist --input \"/workspace/NEON_Downloads/aop_sites/D16_WREF_C1_P1_v2.geojson\" --start \"2017-01-01\" --end \"2020-08-31\" --item \"PSScene4Band\" --asset \"analytic_sr,udm2\" --outfile \"/workspace/NEON_Downloads/planet_order/D16_WREF_C1_P1_v2_2016_2020.csv\" --filters range:clear_percent:90:100 --number 1000"
   ]
  },
  {
   "cell_type": "code",
   "execution_count": null,
   "metadata": {},
   "outputs": [],
   "source": []
  },
  {
   "cell_type": "code",
   "execution_count": 89,
   "metadata": {},
   "outputs": [],
   "source": []
  },
  {
   "cell_type": "code",
   "execution_count": null,
   "metadata": {},
   "outputs": [],
   "source": []
  },
  {
   "cell_type": "code",
   "execution_count": null,
   "metadata": {},
   "outputs": [],
   "source": []
  },
  {
   "cell_type": "code",
   "execution_count": null,
   "metadata": {},
   "outputs": [],
   "source": []
  },
  {
   "cell_type": "code",
   "execution_count": null,
   "metadata": {},
   "outputs": [],
   "source": []
  },
  {
   "cell_type": "code",
   "execution_count": null,
   "metadata": {},
   "outputs": [],
   "source": []
  },
  {
   "cell_type": "raw",
   "metadata": {},
   "source": []
  },
  {
   "cell_type": "raw",
   "metadata": {},
   "source": []
  },
  {
   "cell_type": "code",
   "execution_count": null,
   "metadata": {},
   "outputs": [],
   "source": []
  },
  {
   "cell_type": "code",
   "execution_count": null,
   "metadata": {},
   "outputs": [],
   "source": []
  },
  {
   "cell_type": "code",
   "execution_count": null,
   "metadata": {},
   "outputs": [],
   "source": []
  },
  {
   "cell_type": "code",
   "execution_count": null,
   "metadata": {},
   "outputs": [],
   "source": []
  }
 ],
 "metadata": {
  "kernelspec": {
   "display_name": "Python 3",
   "language": "python",
   "name": "python3"
  },
  "language_info": {
   "codemirror_mode": {
    "name": "ipython",
    "version": 3
   },
   "file_extension": ".py",
   "mimetype": "text/x-python",
   "name": "python",
   "nbconvert_exporter": "python",
   "pygments_lexer": "ipython3",
   "version": "3.7.8"
  }
 },
 "nbformat": 4,
 "nbformat_minor": 4
}
